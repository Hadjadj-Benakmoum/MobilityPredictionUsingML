{
  "nbformat": 4,
  "nbformat_minor": 0,
  "metadata": {
    "colab": {
      "name": "LSTM(RNN)_next_lecation_prediction.ipynb",
      "provenance": [],
      "collapsed_sections": [],
      "toc_visible": true,
      "include_colab_link": true
    },
    "kernelspec": {
      "name": "python3",
      "display_name": "Python 3"
    }
  },
  "cells": [
    {
      "cell_type": "markdown",
      "metadata": {
        "id": "view-in-github",
        "colab_type": "text"
      },
      "source": [
        "<a href=\"https://colab.research.google.com/github/Hadjadj-Benakmoum/MobilityPredictionUsingML/blob/main/LSTM(RNN)_next_lecation_prediction.ipynb\" target=\"_parent\"><img src=\"https://colab.research.google.com/assets/colab-badge.svg\" alt=\"Open In Colab\"/></a>"
      ]
    },
    {
      "cell_type": "code",
      "metadata": {
        "id": "gQct3vThQVwf",
        "outputId": "2f40c07d-dc5a-4716-994d-4c71f015c8e1",
        "colab": {
          "base_uri": "https://localhost:8080/",
          "height": 389
        }
      },
      "source": [
        "from keras.models import Sequential\n",
        "from keras.layers import Dense, Embedding, Dropout,LSTM, CuDNNLSTM\n",
        "from keras.utils import to_categorical\n",
        "from keras.preprocessing.text import Tokenizer\n",
        "from keras.preprocessing.text import text_to_word_sequence\n",
        "from keras.preprocessing.sequence import pad_sequences\n",
        "from keras.utils.vis_utils import model_to_dot\n",
        "from keras.utils.vis_utils import plot_model\n",
        "\n",
        "from sklearn.model_selection import train_test_split\n",
        "\n",
        "import numpy as np\n",
        "import time"
      ],
      "execution_count": null,
      "outputs": [
        {
          "output_type": "error",
          "ename": "ImportError",
          "evalue": "ignored",
          "traceback": [
            "\u001b[0;31m---------------------------------------------------------------------------\u001b[0m",
            "\u001b[0;31mImportError\u001b[0m                               Traceback (most recent call last)",
            "\u001b[0;32m<ipython-input-2-f5a9d21222ac>\u001b[0m in \u001b[0;36m<module>\u001b[0;34m()\u001b[0m\n\u001b[1;32m      1\u001b[0m \u001b[0;32mfrom\u001b[0m \u001b[0mkeras\u001b[0m\u001b[0;34m.\u001b[0m\u001b[0mmodels\u001b[0m \u001b[0;32mimport\u001b[0m \u001b[0mSequential\u001b[0m\u001b[0;34m\u001b[0m\u001b[0;34m\u001b[0m\u001b[0m\n\u001b[0;32m----> 2\u001b[0;31m \u001b[0;32mfrom\u001b[0m \u001b[0mkeras\u001b[0m\u001b[0;34m.\u001b[0m\u001b[0mlayers\u001b[0m \u001b[0;32mimport\u001b[0m \u001b[0mDense\u001b[0m\u001b[0;34m,\u001b[0m \u001b[0mEmbedding\u001b[0m\u001b[0;34m,\u001b[0m \u001b[0mDropout\u001b[0m\u001b[0;34m,\u001b[0m\u001b[0mLSTM\u001b[0m\u001b[0;34m,\u001b[0m \u001b[0mCuDNNLSTM\u001b[0m\u001b[0;34m\u001b[0m\u001b[0;34m\u001b[0m\u001b[0m\n\u001b[0m\u001b[1;32m      3\u001b[0m \u001b[0;32mfrom\u001b[0m \u001b[0mkeras\u001b[0m\u001b[0;34m.\u001b[0m\u001b[0mutils\u001b[0m \u001b[0;32mimport\u001b[0m \u001b[0mto_categorical\u001b[0m\u001b[0;34m\u001b[0m\u001b[0;34m\u001b[0m\u001b[0m\n\u001b[1;32m      4\u001b[0m \u001b[0;32mfrom\u001b[0m \u001b[0mkeras\u001b[0m\u001b[0;34m.\u001b[0m\u001b[0mpreprocessing\u001b[0m\u001b[0;34m.\u001b[0m\u001b[0mtext\u001b[0m \u001b[0;32mimport\u001b[0m \u001b[0mTokenizer\u001b[0m\u001b[0;34m\u001b[0m\u001b[0;34m\u001b[0m\u001b[0m\n\u001b[1;32m      5\u001b[0m \u001b[0;32mfrom\u001b[0m \u001b[0mkeras\u001b[0m\u001b[0;34m.\u001b[0m\u001b[0mpreprocessing\u001b[0m\u001b[0;34m.\u001b[0m\u001b[0mtext\u001b[0m \u001b[0;32mimport\u001b[0m \u001b[0mtext_to_word_sequence\u001b[0m\u001b[0;34m\u001b[0m\u001b[0;34m\u001b[0m\u001b[0m\n",
            "\u001b[0;31mImportError\u001b[0m: cannot import name 'CuDNNLSTM'",
            "",
            "\u001b[0;31m---------------------------------------------------------------------------\u001b[0;32m\nNOTE: If your import is failing due to a missing package, you can\nmanually install dependencies using either !pip or !apt.\n\nTo view examples of installing some common dependencies, click the\n\"Open Examples\" button below.\n\u001b[0;31m---------------------------------------------------------------------------\u001b[0m\n"
          ]
        }
      ]
    },
    {
      "cell_type": "code",
      "metadata": {
        "id": "e5-bK5yoQnxP",
        "outputId": "e4e2a8d6-155a-4aba-be81-af70aeb7ef4e",
        "colab": {
          "base_uri": "https://localhost:8080/",
          "height": 128
        }
      },
      "source": [
        "from google.colab import drive\n",
        "drive.mount('/content/drive')"
      ],
      "execution_count": null,
      "outputs": [
        {
          "output_type": "stream",
          "text": [
            "Go to this URL in a browser: https://accounts.google.com/o/oauth2/auth?client_id=947318989803-6bn6qk8qdgf4n4g3pfee6491hc0brc4i.apps.googleusercontent.com&redirect_uri=urn%3aietf%3awg%3aoauth%3a2.0%3aoob&scope=email%20https%3a%2f%2fwww.googleapis.com%2fauth%2fdocs.test%20https%3a%2f%2fwww.googleapis.com%2fauth%2fdrive%20https%3a%2f%2fwww.googleapis.com%2fauth%2fdrive.photos.readonly%20https%3a%2f%2fwww.googleapis.com%2fauth%2fpeopleapi.readonly&response_type=code\n",
            "\n",
            "Enter your authorization code:\n",
            "4/3wFcCC5vJOcox0gZWan7_8SvBT7E7WEJvJoIsEhNi3fwjQ132qIqk3M\n",
            "Mounted at /content/drive\n"
          ],
          "name": "stdout"
        }
      ]
    },
    {
      "cell_type": "markdown",
      "metadata": {
        "id": "OBvZs6h1nA6T"
      },
      "source": [
        "# Script paramters\n"
      ]
    },
    {
      "cell_type": "code",
      "metadata": {
        "id": "bAwfFv7mVXt6"
      },
      "source": [
        "#You have to change this path to your mobility file \n",
        "path = '/content/drive/My Drive/FinalProject/data/10.mv'\n",
        "\n",
        "window = 8\n",
        "train_rate = 0.5\n",
        "\n",
        "embedding=True\n",
        "embedding_size= 10\n",
        "hidden_lstm=True\n",
        "lstm_nb_units = 30\n",
        "hidden_dense=True\n",
        "dense_nb_unit = 50\n",
        "\n",
        "batch_size = 256\n",
        "nb_epochs = 10\n",
        "\n"
      ],
      "execution_count": null,
      "outputs": []
    },
    {
      "cell_type": "markdown",
      "metadata": {
        "id": "-wFz9FsGnIjS"
      },
      "source": [
        "# Read data from mobility file\n"
      ]
    },
    {
      "cell_type": "code",
      "metadata": {
        "id": "agu64by0WkKx",
        "outputId": "1ab2a4e0-6da5-45de-e31d-eae0d5f11025",
        "colab": {
          "base_uri": "https://localhost:8080/",
          "height": 54
        }
      },
      "source": [
        "def read_location_file(path):\n",
        "  fichier = open(path, 'r')\n",
        "  lines = fichier.readlines()\n",
        "  fichier.close()\n",
        "  locations_seq = [line.split()[1] for line in lines]\n",
        "  return locations_seq\n",
        "\n",
        "locations_seq = read_location_file(path)\n",
        "print('The length of the sequence :',len(locations_seq))       \n",
        "print (locations_seq[0:5]) "
      ],
      "execution_count": null,
      "outputs": [
        {
          "output_type": "stream",
          "text": [
            "The length of the sequence : 2156\n",
            "['LibBldg3AP6', 'LibBldg3AP2', 'LibBldg3AP6', 'LibBldg3AP1', 'LibBldg3AP2']\n"
          ],
          "name": "stdout"
        }
      ]
    },
    {
      "cell_type": "markdown",
      "metadata": {
        "id": "mHJeYt-FnTZB"
      },
      "source": [
        "# Preprocessing of data (Encode lcoation and prepare thel for the model)\n"
      ]
    },
    {
      "cell_type": "code",
      "metadata": {
        "id": "tZdIp05Y54eN",
        "outputId": "57ad7e7d-498a-4ce5-927d-eb97cd7faf2d",
        "colab": {
          "base_uri": "https://localhost:8080/",
          "height": 128
        }
      },
      "source": [
        "from keras.preprocessing.text import Tokenizer\n",
        "# Encode locations as integer sequence\n",
        "def locations_to_integers(locations_seq):\n",
        "  tokenizer = Tokenizer()\n",
        "  tokenizer.fit_on_texts(locations_seq)\n",
        "  encoded_seq = tokenizer.texts_to_sequences(locations_seq)\n",
        "  # Convert a list of lists to a flat list \n",
        "  encoded_seq  = [val for sublist in encoded_seq for val in sublist]\n",
        "  return encoded_seq,tokenizer\n",
        "encoded_seq,tokenizer =locations_to_integers(locations_seq)\n",
        " \n",
        "# Display the vocabulary details\n",
        "vocabulary_size = len(tokenizer.word_counts)+1\n",
        "print('Vocabulary Size:', vocabulary_size)\n",
        "print('Mapping between locations and integers:')\n",
        "print(tokenizer.word_index)\n",
        "print('Encoded sequence :')\n",
        "print (encoded_seq[0:10])\n"
      ],
      "execution_count": null,
      "outputs": [
        {
          "output_type": "stream",
          "text": [
            "Vocabulary Size: 8\n",
            "Mapping between locations and integers:\n",
            "{'libbldg3ap2': 1, 'libbldg3ap7': 2, 'libbldg3ap6': 3, 'off': 4, 'libbldg3ap5': 5, 'libbldg3ap3': 6, 'libbldg3ap1': 7}\n",
            "Encoded sequence :\n",
            "[3, 1, 3, 7, 1, 3, 5, 4, 5, 3]\n"
          ],
          "name": "stdout"
        }
      ]
    },
    {
      "cell_type": "code",
      "metadata": {
        "id": "H8e1FpzF_syS",
        "outputId": "9c17e4e1-aaa7-4bb0-8ccc-b687a579859f",
        "colab": {
          "base_uri": "https://localhost:8080/",
          "height": 235
        }
      },
      "source": [
        "import numpy as np\n",
        "from sklearn.model_selection import train_test_split\n",
        "def build_X_Y(encoded_seq,window=window):\n",
        "  temp_seqs = np.zeros((len(encoded_seq),window+1), dtype='int32')\n",
        "  for i in range(len(encoded_seq)-window):\n",
        "    temp_seqs[i] = encoded_seq[i:(i+window+1)]\n",
        "  X = temp_seqs[:,:-1]\n",
        "  y = temp_seqs[:,-1]\n",
        "  return X,y\n",
        "\n",
        "X,y = build_X_Y(encoded_seq,window)\n",
        "X_train, X_test, y_train, y_test = train_test_split(X, y, test_size=1-train_rate, shuffle = False)\n",
        "\n",
        "print(X_train[:5])\n",
        "print(y_train[:5])\n",
        "print(X_test[:5])\n",
        "print(y_test[:5])"
      ],
      "execution_count": null,
      "outputs": [
        {
          "output_type": "stream",
          "text": [
            "[[3 1 3 7 1 3 5 4]\n",
            " [1 3 7 1 3 5 4 5]\n",
            " [3 7 1 3 5 4 5 3]\n",
            " [7 1 3 5 4 5 3 5]\n",
            " [1 3 5 4 5 3 5 3]]\n",
            "[5 3 5 3 6]\n",
            "[[1 2 1 2 1 2 1 2]\n",
            " [2 1 2 1 2 1 2 1]\n",
            " [1 2 1 2 1 2 1 2]\n",
            " [2 1 2 1 2 1 2 1]\n",
            " [1 2 1 2 1 2 1 2]]\n",
            "[1 2 1 2 1]\n"
          ],
          "name": "stdout"
        }
      ]
    },
    {
      "cell_type": "code",
      "metadata": {
        "id": "xsFTmdIn__OL",
        "outputId": "c3d10a45-3c7e-4c03-c2a5-eea271aaddb8",
        "colab": {
          "base_uri": "https://localhost:8080/",
          "height": 90
        }
      },
      "source": [
        "from keras.utils import to_categorical\n",
        "def integer_to_vector(X_train, X_test, y_train, y_test,Embedding=embedding):\n",
        "  if(not Embedding):\n",
        "    X_train = to_categorical(X_train,num_classes=vocabulary_size)\n",
        "    X_test = to_categorical(X_test,num_classes=vocabulary_size)\n",
        "  y_train = to_categorical(y_train,num_classes=vocabulary_size)\n",
        "  y_test = to_categorical(y_test,num_classes=vocabulary_size)\n",
        "  return X_train, X_test, y_train, y_test\n",
        "\n",
        "X_train, X_test, y_train, y_test = integer_to_vector(X_train, X_test, y_train, y_test,embedding)\n",
        "\n",
        "print(X_train.shape)\n",
        "print(y_train.shape)\n",
        "print(X_test.shape)\n",
        "print(y_test.shape)"
      ],
      "execution_count": null,
      "outputs": [
        {
          "output_type": "stream",
          "text": [
            "(1078, 8)\n",
            "(1078, 8)\n",
            "(1078, 8)\n",
            "(1078, 8)\n"
          ],
          "name": "stdout"
        }
      ]
    },
    {
      "cell_type": "markdown",
      "metadata": {
        "id": "4pi_Ia0wnfBn"
      },
      "source": [
        "# Build the graph of the RNN Model\n"
      ]
    },
    {
      "cell_type": "code",
      "metadata": {
        "id": "QyjBV6LJAo1L"
      },
      "source": [
        "from keras.layers import Dense, Embedding, Dropout,LSTM\n",
        "from keras.models import Sequential\n",
        "def build_model(vocabulary_size=vocabulary_size,\n",
        "                window = window,\n",
        "                embedding = embedding,\n",
        "                embedding_size = embedding_size,\n",
        "                hidden_lstm = hidden_lstm,\n",
        "                lstm_nb_units = lstm_nb_units,\n",
        "                dense_nb_unit = dense_nb_unit,\n",
        "                hidden_dense = hidden_dense):\n",
        "  \n",
        "  time_step = window\n",
        "\n",
        "  model = Sequential()\n",
        "  if(embedding):\n",
        "    model.add(Embedding(vocabulary_size, embedding_size, input_length=time_step))\n",
        "    model.add(LSTM(lstm_nb_units,activation='relu',return_sequences=True))\n",
        "  else:\n",
        "    model.add(LSTM(lstm_nb_units,activation='relu',input_shape=(time_step,vocabulary_size),return_sequences=True))\n",
        "\n",
        "  if(hidden_lstm):\n",
        "    model.add(LSTM(lstm_nb_units,activation='relu'))\n",
        "    \n",
        "  if(hidden_dense):\n",
        "    model.add(Dense(20,activation='relu'))\n",
        "\n",
        "  model.add(Dense(vocabulary_size, activation='softmax'))\n",
        "\n",
        "  # compiling the network\n",
        "  model.compile(loss='categorical_crossentropy', optimizer='adam', metrics=['accuracy'])\n",
        "  return model\n",
        "\n",
        "model = build_model()"
      ],
      "execution_count": null,
      "outputs": []
    },
    {
      "cell_type": "markdown",
      "metadata": {
        "id": "eSy3QxwKoAwY"
      },
      "source": [
        "# Visualize the RNN model details\n"
      ]
    },
    {
      "cell_type": "code",
      "metadata": {
        "id": "5b2xvBQyP6lo",
        "outputId": "37d9cada-5753-4030-922a-78e77d37232e",
        "colab": {
          "base_uri": "https://localhost:8080/",
          "height": 989
        }
      },
      "source": [
        "from keras.utils.vis_utils import plot_model\n",
        "print(model.summary())\n",
        "plot_model(model, to_file='model_plot.png', show_shapes=True, show_layer_names=True)"
      ],
      "execution_count": null,
      "outputs": [
        {
          "output_type": "stream",
          "text": [
            "Model: \"sequential\"\n",
            "_________________________________________________________________\n",
            "Layer (type)                 Output Shape              Param #   \n",
            "=================================================================\n",
            "embedding (Embedding)        (None, 8, 10)             80        \n",
            "_________________________________________________________________\n",
            "lstm (LSTM)                  (None, 8, 30)             4920      \n",
            "_________________________________________________________________\n",
            "lstm_1 (LSTM)                (None, 30)                7320      \n",
            "_________________________________________________________________\n",
            "dense (Dense)                (None, 20)                620       \n",
            "_________________________________________________________________\n",
            "dense_1 (Dense)              (None, 8)                 168       \n",
            "=================================================================\n",
            "Total params: 13,108\n",
            "Trainable params: 13,108\n",
            "Non-trainable params: 0\n",
            "_________________________________________________________________\n",
            "None\n"
          ],
          "name": "stdout"
        },
        {
          "output_type": "execute_result",
          "data": {
            "image/png": "[encoded data removed]",
            "text/plain": [
              "<IPython.core.display.Image object>"
            ]
          },
          "metadata": {
            "tags": []
          },
          "execution_count": 14
        }
      ]
    },
    {
      "cell_type": "markdown",
      "metadata": {
        "id": "uCM1jyr1oMZy"
      },
      "source": [
        "# Train the model using the preprocessed training data (model.fit)\n"
      ]
    },
    {
      "cell_type": "code",
      "metadata": {
        "id": "nkPJTobPQT9y",
        "outputId": "ce320398-5cd4-49c0-e72f-2e96a567e92a",
        "colab": {
          "base_uri": "https://localhost:8080/",
          "height": 419
        }
      },
      "source": [
        "model.fit(X_train,y_train,batch_size=batch_size, epochs=nb_epochs,validation_data=(X_test,y_test ))"
      ],
      "execution_count": null,
      "outputs": [
        {
          "output_type": "stream",
          "text": [
            "Epoch 1/10\n",
            "5/5 [==============================] - 1s 103ms/step - loss: 2.0741 - accuracy: 0.3813 - val_loss: 2.0662 - val_accuracy: 0.3098\n",
            "Epoch 2/10\n",
            "5/5 [==============================] - 0s 20ms/step - loss: 2.0550 - accuracy: 0.4555 - val_loss: 2.0507 - val_accuracy: 0.3098\n",
            "Epoch 3/10\n",
            "5/5 [==============================] - 0s 21ms/step - loss: 2.0319 - accuracy: 0.4555 - val_loss: 2.0318 - val_accuracy: 0.3098\n",
            "Epoch 4/10\n",
            "5/5 [==============================] - 0s 21ms/step - loss: 2.0033 - accuracy: 0.4555 - val_loss: 2.0078 - val_accuracy: 0.3098\n",
            "Epoch 5/10\n",
            "5/5 [==============================] - 0s 21ms/step - loss: 1.9659 - accuracy: 0.4555 - val_loss: 1.9754 - val_accuracy: 0.3098\n",
            "Epoch 6/10\n",
            "5/5 [==============================] - 0s 21ms/step - loss: 1.9140 - accuracy: 0.4555 - val_loss: 1.9292 - val_accuracy: 0.3098\n",
            "Epoch 7/10\n",
            "5/5 [==============================] - 0s 19ms/step - loss: 1.8370 - accuracy: 0.4555 - val_loss: 1.8587 - val_accuracy: 0.3098\n",
            "Epoch 8/10\n",
            "5/5 [==============================] - 0s 20ms/step - loss: 1.7149 - accuracy: 0.4555 - val_loss: 1.7468 - val_accuracy: 0.3098\n",
            "Epoch 9/10\n",
            "5/5 [==============================] - 0s 19ms/step - loss: 1.5116 - accuracy: 0.4555 - val_loss: 1.5776 - val_accuracy: 0.3098\n",
            "Epoch 10/10\n",
            "5/5 [==============================] - 0s 19ms/step - loss: 1.2002 - accuracy: 0.4555 - val_loss: 1.4942 - val_accuracy: 0.3098\n"
          ],
          "name": "stdout"
        },
        {
          "output_type": "execute_result",
          "data": {
            "text/plain": [
              "<tensorflow.python.keras.callbacks.History at 0x7fd171ac1b00>"
            ]
          },
          "metadata": {
            "tags": []
          },
          "execution_count": 15
        }
      ]
    },
    {
      "cell_type": "markdown",
      "metadata": {
        "id": "UptJxd8Jog1o"
      },
      "source": [
        "```\n",
        "# Ce texte est au format code\n",
        "```\n",
        "\n",
        "# Test the model using the prprocessed testing data (model.evaluate)\n"
      ]
    },
    {
      "cell_type": "code",
      "metadata": {
        "id": "IHh8BzUIQtMk",
        "outputId": "ea30a337-3c9f-4392-813e-3533567b0b0e",
        "colab": {
          "base_uri": "https://localhost:8080/",
          "height": 54
        }
      },
      "source": [
        "result = model.evaluate(X_test,y_test)\n",
        "print('Accuracy : ',result[1])"
      ],
      "execution_count": null,
      "outputs": [
        {
          "output_type": "stream",
          "text": [
            "34/34 [==============================] - 0s 3ms/step - loss: 1.4942 - accuracy: 0.3098\n",
            "Accuracy :  0.30983301997184753\n"
          ],
          "name": "stdout"
        }
      ]
    },
    {
      "cell_type": "markdown",
      "metadata": {
        "id": "ffDjmm6goxNv"
      },
      "source": [
        "# Test the model with one location\n"
      ]
    },
    {
      "cell_type": "markdown",
      "metadata": {
        "id": "yfLZ56XCo667"
      },
      "source": [
        "Context of the size (window) ---> Encoded context ---> RNN model ---> RNN output vector ---> Next location"
      ]
    },
    {
      "cell_type": "code",
      "metadata": {
        "id": "CXcaX-3OQzTy"
      },
      "source": [
        "#This function converts the input to the format understood by the RNN model.\n",
        "#Context of the size (window) ---> Encoded context\n",
        "\n",
        "def encode_sequence(context,Tokenizer=Tokenizer,Embedding=embedding):\n",
        "  encoded_seq = tokenizer.texts_to_sequences(context)\n",
        "  # Convert a list of lists to a flat list \n",
        "  encoded_seq  = [val for sublist in encoded_seq for val in sublist]\n",
        "  encoded_seq  = np.array(encoded_seq)\n",
        "  if not Embedding:\n",
        "    encoded_seq  = to_categorical(encoded_seq,num_classes=vocabulary_size)\n",
        "    result  = encoded_seq.reshape(1,encoded_seq.shape[0],encoded_seq.shape[1])\n",
        "  else:\n",
        "    result = np.zeros((1,len(encoded_seq)))\n",
        "    result[0] = encoded_seq\n",
        "  \n",
        "  return result\n",
        "\n",
        "#This function converts the output vector of the RNN to the string of next location\n",
        "#RNN output vector ---> Next location\n",
        "def decode_RNN_output(model_output,Tokenizer=Tokenizer):\n",
        "  index_next_location = np.argmax(model_output)+1\n",
        "  next_location = tokenizer.sequences_to_texts([[index_next_location]])[0]\n",
        "  return next_location"
      ],
      "execution_count": null,
      "outputs": []
    },
    {
      "cell_type": "code",
      "metadata": {
        "id": "z7a2U1O-RLkC",
        "outputId": "0d230a66-2d5a-4320-f8d3-f62decdbbaf2",
        "colab": {
          "base_uri": "https://localhost:8080/",
          "height": 54
        }
      },
      "source": [
        "#Just an example with the first window of locations\n",
        "context = locations_seq[:window]\n",
        "real_next_location = locations_seq[window].lower()\n",
        "\n",
        "#Context of the size (window) ---> Encoded context \n",
        "encoded_context = encode_sequence(context)\n",
        "\n",
        "#Encoded context ---> RNN model ---> RNN output vector\n",
        "model_output = model.predict(encoded_context)\n",
        "\n",
        "#RNN output vector ---> Next location\n",
        "next_location = decode_RNN_output(model_output)\n",
        "\n",
        "#Result for this example \n",
        "print('Correct next location : ',real_next_location)\n",
        "print('Pridicted next location : ',next_location)"
      ],
      "execution_count": null,
      "outputs": [
        {
          "output_type": "stream",
          "text": [
            "Correct next location :  libbldg3ap5\n",
            "Pridicted next location :  libbldg3ap6\n"
          ],
          "name": "stdout"
        }
      ]
    }
  ]
}