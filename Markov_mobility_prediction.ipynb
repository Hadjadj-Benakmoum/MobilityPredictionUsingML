{
  "nbformat": 4,
  "nbformat_minor": 0,
  "metadata": {
    "colab": {
      "name": "Markov_mobility_prediction.ipynb",
      "provenance": [],
      "include_colab_link": true
    },
    "kernelspec": {
      "name": "python3",
      "display_name": "Python 3"
    }
  },
  "cells": [
    {
      "cell_type": "markdown",
      "metadata": {
        "id": "view-in-github",
        "colab_type": "text"
      },
      "source": [
        "<a href=\"https://colab.research.google.com/github/Hadjadj-Benakmoum/MobilityPredictionUsingML/blob/main/Markov_mobility_prediction.ipynb\" target=\"_parent\"><img src=\"https://colab.research.google.com/assets/colab-badge.svg\" alt=\"Open In Colab\"/></a>"
      ]
    },
    {
      "cell_type": "markdown",
      "metadata": {
        "id": "vmvSxW-YJvt_"
      },
      "source": [
        "## Load data"
      ]
    },
    {
      "cell_type": "code",
      "metadata": {
        "id": "giDVJO46dYHw"
      },
      "source": [
        ""
      ],
      "execution_count": null,
      "outputs": []
    },
    {
      "cell_type": "code",
      "metadata": {
        "id": "dNf-1UqzJx2W"
      },
      "source": [
        "locations = []\n",
        "with open('0000c5a0e337.log.mv') as f:\n",
        "     for line in f:\n",
        "         locations.append(line.split()[1])"
      ],
      "execution_count": null,
      "outputs": []
    },
    {
      "cell_type": "markdown",
      "metadata": {
        "id": "dH-R5lxhJnMj"
      },
      "source": [
        "## Train markov model function"
      ]
    },
    {
      "cell_type": "code",
      "metadata": {
        "id": "2a2evPqqJrNz"
      },
      "source": [
        "def train_markov_model(locations, train_percentage, w):\n",
        "  seq_size = len(locations)\n",
        "  d = {}\n",
        "  \n",
        "  for i in range(int(train_percentage*(seq_size-1) - w)):\n",
        "      context = ','.join(locations[i:i+w])\n",
        "      next_location = locations[i+w]\n",
        "      if(context in d.keys()):\n",
        "          if(next_location in d[context].keys()):\n",
        "              d[context][next_location]=d[context][next_location]+1\n",
        "          else:\n",
        "              d[context][next_location]=1\n",
        "      else:\n",
        "          d[context]={next_location:1}\n",
        "  return d\n"
      ],
      "execution_count": null,
      "outputs": []
    },
    {
      "cell_type": "code",
      "metadata": {
        "id": "0q_weUb_J_eI"
      },
      "source": [
        "d = train_markov_model(locations, 1, w=1)"
      ],
      "execution_count": null,
      "outputs": []
    },
    {
      "cell_type": "markdown",
      "metadata": {
        "id": "KdCLpzi_KAij"
      },
      "source": [
        "## Predict Next Location function"
      ]
    },
    {
      "cell_type": "code",
      "metadata": {
        "id": "6M0UQHVKKDVN",
        "outputId": "9d948120-f582-4121-b72a-ae9659937e91",
        "colab": {
          "base_uri": "https://localhost:8080/",
          "height": 52
        }
      },
      "source": [
        "def predict_nxt_loc(train_percentage,locations,w):\n",
        "  test_loc = 'ResBldg56AP13'\n",
        "  next_locations_dic = d[test_loc]\n",
        "  print(next_locations_dic)\n",
        "  next_loc=max(next_locations_dic,key=next_locations_dic.get)\n",
        "  return next_loc\n",
        "\n",
        "  \n",
        "predict_nxt_loc(1,locations,1)"
      ],
      "execution_count": null,
      "outputs": [
        {
          "output_type": "stream",
          "text": [
            "{'SocBldg4AP4': 56, 'SocBldg4AP7': 10, 'OFF': 3, 'AdmBldg27AP1': 4, 'SocBldg1AP1': 1, 'LibBldg1AP8': 4}\n"
          ],
          "name": "stdout"
        },
        {
          "output_type": "execute_result",
          "data": {
            "application/vnd.google.colaboratory.intrinsic+json": {
              "type": "string"
            },
            "text/plain": [
              "'SocBldg4AP4'"
            ]
          },
          "metadata": {
            "tags": []
          },
          "execution_count": 9
        }
      ]
    },
    {
      "cell_type": "markdown",
      "metadata": {
        "id": "8pbe6JjpJRjM"
      },
      "source": [
        "# Nouvelle section"
      ]
    }
  ]
}